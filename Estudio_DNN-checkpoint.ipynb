{
 "cells": [
  {
   "cell_type": "code",
   "execution_count": 1,
   "id": "91eedbe4-add4-4c44-886b-a590323701e5",
   "metadata": {},
   "outputs": [
    {
     "name": "stderr",
     "output_type": "stream",
     "text": [
      "C:\\Users\\victo\\anaconda3\\lib\\site-packages\\scipy\\__init__.py:146: UserWarning: A NumPy version >=1.16.5 and <1.23.0 is required for this version of SciPy (detected version 1.26.4\n",
      "  warnings.warn(f\"A NumPy version >={np_minversion} and <{np_maxversion}\"\n"
     ]
    }
   ],
   "source": [
    "import tensorflow as tf\n",
    "import matplotlib.pyplot as plt\n",
    "import os\n",
    "import seaborn as sns\n",
    "from sklearn.metrics import confusion_matrix\n",
    "import shutil\n",
    "import numpy as np"
   ]
  },
  {
   "cell_type": "code",
   "execution_count": 2,
   "id": "6ac7fa4b-4b7a-4db6-89b5-740d89e47d1a",
   "metadata": {},
   "outputs": [
    {
     "name": "stdout",
     "output_type": "stream",
     "text": [
      "Found 2565 files belonging to 9 classes.\n"
     ]
    }
   ],
   "source": [
    "image_size = (224, 224) \n",
    "batch_size = 32\n",
    "#Cargamos el data set Test:\n",
    "test_ds = tf.keras.preprocessing.image_dataset_from_directory(\n",
    "                'C:/Users/victo/OneDrive/Fisica/Cuarto de carrera/TFG/Test',  # Directorio donde se encuentran los datos de prueba\n",
    "                labels='inferred',                      # Para tomar cada subdirectorio como una clase diferente\n",
    "                label_mode='int',                       # Las etiquetas son números enteros\n",
    "                seed=20220331,                          # Variable relacionada con la aleatoriedad\n",
    "                image_size=image_size,                  # Tamaño de las imágenes\n",
    "                batch_size=batch_size,                  # Tamaño de los lotes de prueba\n",
    "            )"
   ]
  },
  {
   "cell_type": "code",
   "execution_count": 10,
   "id": "b91df821-b5f1-4773-84c4-b5f5d64d9767",
   "metadata": {},
   "outputs": [
    {
     "ename": "ValueError",
     "evalue": "File not found: filepath=C:/Users/victo/OneDrive/Fisica/Cuarto de carrera/TFG/Codigo/Untitled Folder/modelos/BACKUP_2.keras. Please ensure the file is an accessible `.keras` zip file.",
     "output_type": "error",
     "traceback": [
      "\u001b[1;31m---------------------------------------------------------------------------\u001b[0m",
      "\u001b[1;31mValueError\u001b[0m                                Traceback (most recent call last)",
      "\u001b[1;32m~\\AppData\\Local\\Temp/ipykernel_2276/1623040473.py\u001b[0m in \u001b[0;36m<module>\u001b[1;34m\u001b[0m\n\u001b[0;32m      1\u001b[0m \u001b[1;31m#Cargamos el modelo ya entrenado:\u001b[0m\u001b[1;33m\u001b[0m\u001b[1;33m\u001b[0m\u001b[0m\n\u001b[1;32m----> 2\u001b[1;33m \u001b[0mmodelo\u001b[0m \u001b[1;33m=\u001b[0m \u001b[0mtf\u001b[0m\u001b[1;33m.\u001b[0m\u001b[0mkeras\u001b[0m\u001b[1;33m.\u001b[0m\u001b[0mmodels\u001b[0m\u001b[1;33m.\u001b[0m\u001b[0mload_model\u001b[0m\u001b[1;33m(\u001b[0m\u001b[1;34m'C:/Users/victo/OneDrive/Fisica/Cuarto de carrera/TFG/Codigo/Untitled Folder/modelos/BACKUP_2.keras'\u001b[0m\u001b[1;33m)\u001b[0m\u001b[1;33m\u001b[0m\u001b[1;33m\u001b[0m\u001b[0m\n\u001b[0m",
      "\u001b[1;32m~\\anaconda3\\lib\\site-packages\\keras\\src\\saving\\saving_api.py\u001b[0m in \u001b[0;36mload_model\u001b[1;34m(filepath, custom_objects, compile, safe_mode)\u001b[0m\n\u001b[0;32m    185\u001b[0m         )\n\u001b[0;32m    186\u001b[0m     \u001b[1;32melif\u001b[0m \u001b[0mstr\u001b[0m\u001b[1;33m(\u001b[0m\u001b[0mfilepath\u001b[0m\u001b[1;33m)\u001b[0m\u001b[1;33m.\u001b[0m\u001b[0mendswith\u001b[0m\u001b[1;33m(\u001b[0m\u001b[1;34m\".keras\"\u001b[0m\u001b[1;33m)\u001b[0m\u001b[1;33m:\u001b[0m\u001b[1;33m\u001b[0m\u001b[1;33m\u001b[0m\u001b[0m\n\u001b[1;32m--> 187\u001b[1;33m         raise ValueError(\n\u001b[0m\u001b[0;32m    188\u001b[0m             \u001b[1;34mf\"File not found: filepath={filepath}. \"\u001b[0m\u001b[1;33m\u001b[0m\u001b[1;33m\u001b[0m\u001b[0m\n\u001b[0;32m    189\u001b[0m             \u001b[1;34m\"Please ensure the file is an accessible `.keras` \"\u001b[0m\u001b[1;33m\u001b[0m\u001b[1;33m\u001b[0m\u001b[0m\n",
      "\u001b[1;31mValueError\u001b[0m: File not found: filepath=C:/Users/victo/OneDrive/Fisica/Cuarto de carrera/TFG/Codigo/Untitled Folder/modelos/BACKUP_2.keras. Please ensure the file is an accessible `.keras` zip file."
     ]
    }
   ],
   "source": [
    "#Cargamos el modelo ya entrenado:\n",
    "modelo = tf.keras.models.load_model('C:/Users/victo/OneDrive/Fisica/Cuarto de carrera/TFG/Codigo/Untitled Folder/modelos/BACKUP_2.keras')"
   ]
  },
  {
   "cell_type": "code",
   "execution_count": null,
   "id": "0ff77f4c-7202-45d8-882e-377ff2081397",
   "metadata": {},
   "outputs": [],
   "source": []
  }
 ],
 "metadata": {
  "kernelspec": {
   "display_name": "Python 3 (ipykernel)",
   "language": "python",
   "name": "python3"
  },
  "language_info": {
   "codemirror_mode": {
    "name": "ipython",
    "version": 3
   },
   "file_extension": ".py",
   "mimetype": "text/x-python",
   "name": "python",
   "nbconvert_exporter": "python",
   "pygments_lexer": "ipython3",
   "version": "3.9.7"
  }
 },
 "nbformat": 4,
 "nbformat_minor": 5
}
